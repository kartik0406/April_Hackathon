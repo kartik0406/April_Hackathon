{
 "cells": [
  {
   "cell_type": "code",
   "execution_count": 1,
   "id": "healthy-college",
   "metadata": {},
   "outputs": [],
   "source": [
    "import pandas as pd\n",
    "import numpy as np\n",
    "import matplotlib.pyplot as plt\n",
    "import tensorflow as tf\n",
    "\n",
    "physical_devices = tf.config.list_physical_devices('GPU')\n",
    "tf.config.experimental.set_memory_growth(physical_devices[0], enable=True)"
   ]
  },
  {
   "cell_type": "code",
   "execution_count": 166,
   "id": "circular-mills",
   "metadata": {},
   "outputs": [],
   "source": [
    "import tensorflow as tf\n",
    "from tensorflow import keras\n",
    "from tensorflow.keras.models import Sequential, load_model\n",
    "from tensorflow.keras.layers import Dense, LSTM, Bidirectional, Embedding, Dropout, GRU\n",
    "from tensorflow.keras.preprocessing.text import Tokenizer\n",
    "from tensorflow.keras.preprocessing.sequence import pad_sequences\n",
    "from tensorflow.keras.utils import to_categorical\n",
    "from tensorflow.keras.callbacks import ModelCheckpoint\n",
    "from tensorflow.keras.optimizers import SGD"
   ]
  },
  {
   "cell_type": "code",
   "execution_count": 3,
   "id": "relevant-bibliography",
   "metadata": {},
   "outputs": [],
   "source": [
    "import re\n",
    "import nltk\n",
    "from nltk.corpus import stopwords\n",
    "from nltk.tokenize import word_tokenize\n",
    "from nltk.stem.lancaster import LancasterStemmer\n",
    "from sklearn.preprocessing import OneHotEncoder"
   ]
  },
  {
   "cell_type": "code",
   "execution_count": 4,
   "id": "formal-france",
   "metadata": {},
   "outputs": [],
   "source": [
    "def load_dataset(filename):\n",
    "    df = pd.read_csv(filename, encoding = \"latin1\", names = [\"question\", \"intent\"])\n",
    "    df.dropna()\n",
    "    print(df.head())\n",
    "    intent = df[\"intent\"]\n",
    "    unique_intent = list(set(intent))\n",
    "    question = list(df[\"question\"])\n",
    "    return (intent, unique_intent, question)"
   ]
  },
  {
   "cell_type": "code",
   "execution_count": 44,
   "id": "nominated-genesis",
   "metadata": {},
   "outputs": [
    {
     "name": "stdout",
     "output_type": "stream",
     "text": [
      "            question  intent\n",
      "0                 yo  gen_hi\n",
      "1               Heya  gen_hi\n",
      "2            Namaste  gen_hi\n",
      "3                Hey  gen_hi\n",
      "4  To great see you!  gen_hi\n"
     ]
    }
   ],
   "source": [
    "intent, unique_intent, question = load_dataset(\"data_complete_final.csv\")"
   ]
  },
  {
   "cell_type": "code",
   "execution_count": 45,
   "id": "administrative-calvin",
   "metadata": {},
   "outputs": [
    {
     "name": "stdout",
     "output_type": "stream",
     "text": [
      "['Am who I chatting with?', \"What ' s your? name\", 'Should what I say your as name?', 'Tell me name your?', 'What are called you?']\n",
      "['gen_bye', 'spe_credits_get_how', 'spe_alute_purpose', 'gen_fund', 'spe_alute_credits', 'gen_name', 'spe_proj_req_appr', 'spe_admin_who', 'spe_alutoze_get_how', 'gen_who_made', 'spe_alute_acc_free', 'spe_alute_domains', 'spe_proj_limit', 'gen_social_media', 'spe_why_alute', 'spe_alutoze_what', 'gen_who_you', 'gen_query', 'gen_thanks', 'gen_help', 'spe_what_alute_is', 'gen_bot', 'spe_credits_actual_resp', 'gen_how_you', 'gen_contact_info', 'spe_alute_since_when', 'spe_git_why', 'spe_admin_purpose', 'gen_hi', 'spe_proj_own', 'spe_credits_use_how', 'gen_human', 'spe_alutoz_aft_credits', 'spe_data_secure', 'gen_collab']\n"
     ]
    }
   ],
   "source": [
    "print(question[100:105])\n",
    "print(unique_intent)"
   ]
  },
  {
   "cell_type": "code",
   "execution_count": 46,
   "id": "joint-lodging",
   "metadata": {},
   "outputs": [],
   "source": [
    "def cleaning(question):\n",
    "    words = []\n",
    "    for s in question:\n",
    "        clean = re.sub(r'[^a-z A-Z]', \" \", s)\n",
    "        w = word_tokenize(clean)\n",
    "        #stemming\n",
    "        words.append([i.lower() for i in w])\n",
    "    \n",
    "    return words  "
   ]
  },
  {
   "cell_type": "code",
   "execution_count": 47,
   "id": "musical-mixer",
   "metadata": {},
   "outputs": [
    {
     "name": "stdout",
     "output_type": "stream",
     "text": [
      "18513\n"
     ]
    }
   ],
   "source": [
    "cleaned_words = cleaning(question)\n",
    "print(len(cleaned_words))"
   ]
  },
  {
   "cell_type": "code",
   "execution_count": 48,
   "id": "coated-europe",
   "metadata": {},
   "outputs": [
    {
     "name": "stdout",
     "output_type": "stream",
     "text": [
      "[['yo'], ['heya'], ['namaste'], ['hey'], ['to', 'great', 'see', 'you'], ['ssup'], ['whatup'], ['yo']]\n"
     ]
    }
   ],
   "source": [
    "print(cleaned_words[:8])"
   ]
  },
  {
   "cell_type": "code",
   "execution_count": 49,
   "id": "difficult-remark",
   "metadata": {},
   "outputs": [],
   "source": [
    "def create_tokenizer(words, filters = '!\"#$%&*+,-./:;<=>?@[\\]^`{|}~'):\n",
    "    token = Tokenizer(filters = filters)\n",
    "    token.fit_on_texts(words)\n",
    "    return token"
   ]
  },
  {
   "cell_type": "code",
   "execution_count": 50,
   "id": "identified-dressing",
   "metadata": {},
   "outputs": [],
   "source": [
    "def max_length(words):\n",
    "    return(len(max(words, key = len)))"
   ]
  },
  {
   "cell_type": "code",
   "execution_count": 51,
   "id": "missing-vampire",
   "metadata": {},
   "outputs": [
    {
     "name": "stdout",
     "output_type": "stream",
     "text": [
      "Vocab Size = 3507 and Maximum length = 26\n"
     ]
    }
   ],
   "source": [
    "word_tokenizer = create_tokenizer(cleaned_words)\n",
    "vocab_size = len(word_tokenizer.word_index) + 1\n",
    "max_length = max_length(cleaned_words)\n",
    "\n",
    "print(\"Vocab Size = %d and Maximum length = %d\" % (vocab_size, max_length))"
   ]
  },
  {
   "cell_type": "code",
   "execution_count": 52,
   "id": "nasty-wilson",
   "metadata": {},
   "outputs": [],
   "source": [
    "def encoding_doc(token, words):\n",
    "    return(token.texts_to_sequences(words))"
   ]
  },
  {
   "cell_type": "code",
   "execution_count": 53,
   "id": "vanilla-wayne",
   "metadata": {},
   "outputs": [],
   "source": [
    "encoded_doc = encoding_doc(word_tokenizer, cleaned_words)"
   ]
  },
  {
   "cell_type": "code",
   "execution_count": 54,
   "id": "pointed-curve",
   "metadata": {},
   "outputs": [],
   "source": [
    "def padding_doc(encoded_doc, max_length):\n",
    "    return(pad_sequences(encoded_doc, maxlen = max_length, padding = \"post\"))"
   ]
  },
  {
   "cell_type": "code",
   "execution_count": 55,
   "id": "advisory-affect",
   "metadata": {},
   "outputs": [],
   "source": [
    "padded_doc = padding_doc(encoded_doc, max_length)"
   ]
  },
  {
   "cell_type": "code",
   "execution_count": 56,
   "id": "muslim-idaho",
   "metadata": {},
   "outputs": [
    {
     "data": {
      "text/plain": [
       "array([[ 10,   9,   2, 154,   0,   0,   0,   0,   0,   0,   0,   0,   0,\n",
       "          0,   0,   0,   0,   0,   0,   0,   0,   0,   0,   0,   0,   0],\n",
       "       [  2,  10,   9, 199,   0,   0,   0,   0,   0,   0,   0,   0,   0,\n",
       "          0,   0,   0,   0,   0,   0,   0,   0,   0,   0,   0,   0,   0],\n",
       "       [ 10,   9,   2, 388,   0,   0,   0,   0,   0,   0,   0,   0,   0,\n",
       "          0,   0,   0,   0,   0,   0,   0,   0,   0,   0,   0,   0,   0]])"
      ]
     },
     "execution_count": 56,
     "metadata": {},
     "output_type": "execute_result"
    }
   ],
   "source": [
    "padded_doc[115:118]"
   ]
  },
  {
   "cell_type": "code",
   "execution_count": 57,
   "id": "beautiful-requirement",
   "metadata": {},
   "outputs": [
    {
     "name": "stdout",
     "output_type": "stream",
     "text": [
      "Shape of padded docs =  (18513, 26)\n"
     ]
    }
   ],
   "source": [
    "print(\"Shape of padded docs = \",padded_doc.shape)"
   ]
  },
  {
   "cell_type": "code",
   "execution_count": 58,
   "id": "floating-redhead",
   "metadata": {},
   "outputs": [],
   "source": [
    "output_tokenizer = create_tokenizer(unique_intent)"
   ]
  },
  {
   "cell_type": "code",
   "execution_count": 59,
   "id": "level-tamil",
   "metadata": {},
   "outputs": [
    {
     "data": {
      "text/plain": [
       "{'gen_bye': 1,\n",
       " 'spe_credits_get_how': 2,\n",
       " 'spe_alute_purpose': 3,\n",
       " 'gen_fund': 4,\n",
       " 'spe_alute_credits': 5,\n",
       " 'gen_name': 6,\n",
       " 'spe_proj_req_appr': 7,\n",
       " 'spe_admin_who': 8,\n",
       " 'spe_alutoze_get_how': 9,\n",
       " 'gen_who_made': 10,\n",
       " 'spe_alute_acc_free': 11,\n",
       " 'spe_alute_domains': 12,\n",
       " 'spe_proj_limit': 13,\n",
       " 'gen_social_media': 14,\n",
       " 'spe_why_alute': 15,\n",
       " 'spe_alutoze_what': 16,\n",
       " 'gen_who_you': 17,\n",
       " 'gen_query': 18,\n",
       " 'gen_thanks': 19,\n",
       " 'gen_help': 20,\n",
       " 'spe_what_alute_is': 21,\n",
       " 'gen_bot': 22,\n",
       " 'spe_credits_actual_resp': 23,\n",
       " 'gen_how_you': 24,\n",
       " 'gen_contact_info': 25,\n",
       " 'spe_alute_since_when': 26,\n",
       " 'spe_git_why': 27,\n",
       " 'spe_admin_purpose': 28,\n",
       " 'gen_hi': 29,\n",
       " 'spe_proj_own': 30,\n",
       " 'spe_credits_use_how': 31,\n",
       " 'gen_human': 32,\n",
       " 'spe_alutoz_aft_credits': 33,\n",
       " 'spe_data_secure': 34,\n",
       " 'gen_collab': 35}"
      ]
     },
     "execution_count": 59,
     "metadata": {},
     "output_type": "execute_result"
    }
   ],
   "source": [
    "output_tokenizer.word_index"
   ]
  },
  {
   "cell_type": "code",
   "execution_count": 60,
   "id": "assured-satin",
   "metadata": {},
   "outputs": [],
   "source": [
    "encoded_output = encoding_doc(output_tokenizer, intent)"
   ]
  },
  {
   "cell_type": "code",
   "execution_count": 61,
   "id": "simple-isolation",
   "metadata": {},
   "outputs": [],
   "source": [
    "encoded_output = np.array(encoded_output).reshape(len(encoded_output), 1)"
   ]
  },
  {
   "cell_type": "code",
   "execution_count": 62,
   "id": "bored-superior",
   "metadata": {},
   "outputs": [
    {
     "data": {
      "text/plain": [
       "(18513, 1)"
      ]
     },
     "execution_count": 62,
     "metadata": {},
     "output_type": "execute_result"
    }
   ],
   "source": [
    "encoded_output.shape"
   ]
  },
  {
   "cell_type": "code",
   "execution_count": 63,
   "id": "worse-restaurant",
   "metadata": {},
   "outputs": [],
   "source": [
    "def one_hot(encode):\n",
    "    o = OneHotEncoder(sparse = False)\n",
    "    return(o.fit_transform(encode))"
   ]
  },
  {
   "cell_type": "code",
   "execution_count": 64,
   "id": "younger-tackle",
   "metadata": {},
   "outputs": [],
   "source": [
    "output_one_hot = one_hot(encoded_output)"
   ]
  },
  {
   "cell_type": "code",
   "execution_count": 65,
   "id": "middle-stack",
   "metadata": {},
   "outputs": [
    {
     "data": {
      "text/plain": [
       "(18513, 35)"
      ]
     },
     "execution_count": 65,
     "metadata": {},
     "output_type": "execute_result"
    }
   ],
   "source": [
    "output_one_hot.shape"
   ]
  },
  {
   "cell_type": "code",
   "execution_count": 66,
   "id": "common-disposition",
   "metadata": {},
   "outputs": [],
   "source": [
    "from sklearn.model_selection import train_test_split"
   ]
  },
  {
   "cell_type": "code",
   "execution_count": 189,
   "id": "latin-genome",
   "metadata": {},
   "outputs": [],
   "source": [
    "x_train, x_val, y_train, y_val = train_test_split(padded_doc, output_one_hot, shuffle = True, test_size = 0.2)"
   ]
  },
  {
   "cell_type": "code",
   "execution_count": 190,
   "id": "motivated-interaction",
   "metadata": {},
   "outputs": [
    {
     "name": "stdout",
     "output_type": "stream",
     "text": [
      "Shape of train_X = (14810, 26) and train_Y = (14810, 35)\n",
      "Shape of val_X = (3703, 26) and val_Y = (3703, 35)\n"
     ]
    }
   ],
   "source": [
    "print(\"Shape of train_X = %s and train_Y = %s\" % (x_train.shape, y_train.shape))\n",
    "print(\"Shape of val_X = %s and val_Y = %s\" % (x_val.shape, y_val.shape))"
   ]
  },
  {
   "cell_type": "code",
   "execution_count": 191,
   "id": "nasty-pursuit",
   "metadata": {},
   "outputs": [],
   "source": [
    "model=Sequential()\n",
    "model.add(Embedding(vocab_size, 128, input_length = max_length, trainable = True))\n",
    "#model.add(GRU(128,return_sequences=True))\n",
    "#model.add(Bidirectional(LSTM(128,return_sequences=True)))\n",
    "#model.add(GRU(128,return_sequences=False))\n",
    "model.add(Bidirectional(LSTM(128)))\n",
    "model.add(Dense(128, activation = \"relu\"))    ###\n",
    "model.add(Dropout(0.5))\n",
    "model.add(Dense(96, activation = \"relu\"))    ###\n",
    "model.add(Dropout(0.3))\n",
    "model.add(Dense(35, activation = \"softmax\"))"
   ]
  },
  {
   "cell_type": "code",
   "execution_count": 192,
   "id": "successful-herald",
   "metadata": {},
   "outputs": [],
   "source": [
    "opt = SGD(lr=0.01, momentum=0.9)\n",
    "#model.compile(loss='kullback_leibler_divergence', optimizer='adam', metrics=['accuracy'])\n",
    "model.compile(loss = \"categorical_crossentropy\", optimizer = \"adam\", metrics = [\"accuracy\"])"
   ]
  },
  {
   "cell_type": "code",
   "execution_count": 193,
   "id": "invisible-decision",
   "metadata": {
    "scrolled": true
   },
   "outputs": [
    {
     "name": "stdout",
     "output_type": "stream",
     "text": [
      "Epoch 1/20\n",
      "1852/1852 [==============================] - 30s 13ms/step - loss: 2.6627 - accuracy: 0.2242 - val_loss: 0.4815 - val_accuracy: 0.8512\n",
      "\n",
      "Epoch 00001: val_loss improved from inf to 0.48151, saving model to test_single_LSTM_layer.h5\n",
      "Epoch 2/20\n",
      "1852/1852 [==============================] - 24s 13ms/step - loss: 0.5692 - accuracy: 0.8116 - val_loss: 0.2266 - val_accuracy: 0.9395\n",
      "\n",
      "Epoch 00002: val_loss improved from 0.48151 to 0.22663, saving model to test_single_LSTM_layer.h5\n",
      "Epoch 3/20\n",
      "1852/1852 [==============================] - 23s 12ms/step - loss: 0.2447 - accuracy: 0.9283 - val_loss: 0.1679 - val_accuracy: 0.9590\n",
      "\n",
      "Epoch 00003: val_loss improved from 0.22663 to 0.16789, saving model to test_single_LSTM_layer.h5\n",
      "Epoch 4/20\n",
      "1852/1852 [==============================] - 23s 12ms/step - loss: 0.1528 - accuracy: 0.9589 - val_loss: 0.1440 - val_accuracy: 0.9654\n",
      "\n",
      "Epoch 00004: val_loss improved from 0.16789 to 0.14396, saving model to test_single_LSTM_layer.h5\n",
      "Epoch 5/20\n",
      "1852/1852 [==============================] - 23s 13ms/step - loss: 0.1138 - accuracy: 0.9696 - val_loss: 0.1252 - val_accuracy: 0.9700\n",
      "\n",
      "Epoch 00005: val_loss improved from 0.14396 to 0.12515, saving model to test_single_LSTM_layer.h5\n",
      "Epoch 6/20\n",
      "1852/1852 [==============================] - 24s 13ms/step - loss: 0.0923 - accuracy: 0.9743 - val_loss: 0.1327 - val_accuracy: 0.9762\n",
      "\n",
      "Epoch 00006: val_loss did not improve from 0.12515\n",
      "Epoch 7/20\n",
      "1852/1852 [==============================] - 25s 14ms/step - loss: 0.0669 - accuracy: 0.9800 - val_loss: 0.1453 - val_accuracy: 0.9749\n",
      "\n",
      "Epoch 00007: val_loss did not improve from 0.12515\n",
      "Epoch 8/20\n",
      "1852/1852 [==============================] - 26s 14ms/step - loss: 0.0622 - accuracy: 0.9814 - val_loss: 0.1809 - val_accuracy: 0.9681\n",
      "\n",
      "Epoch 00008: val_loss did not improve from 0.12515\n",
      "Epoch 9/20\n",
      "1852/1852 [==============================] - 26s 14ms/step - loss: 0.0526 - accuracy: 0.9852 - val_loss: 0.1292 - val_accuracy: 0.9824\n",
      "\n",
      "Epoch 00009: val_loss did not improve from 0.12515\n",
      "Epoch 10/20\n",
      "1852/1852 [==============================] - 27s 14ms/step - loss: 0.0369 - accuracy: 0.9894 - val_loss: 0.1301 - val_accuracy: 0.9806\n",
      "\n",
      "Epoch 00010: val_loss did not improve from 0.12515\n",
      "Epoch 11/20\n",
      "1852/1852 [==============================] - 27s 15ms/step - loss: 0.0380 - accuracy: 0.9908 - val_loss: 0.1556 - val_accuracy: 0.9808\n",
      "\n",
      "Epoch 00011: val_loss did not improve from 0.12515\n",
      "Epoch 12/20\n",
      "1852/1852 [==============================] - 28s 15ms/step - loss: 0.0361 - accuracy: 0.9876 - val_loss: 0.1863 - val_accuracy: 0.9762\n",
      "\n",
      "Epoch 00012: val_loss did not improve from 0.12515\n",
      "Epoch 13/20\n",
      "1852/1852 [==============================] - 25s 14ms/step - loss: 0.0233 - accuracy: 0.9926 - val_loss: 0.1449 - val_accuracy: 0.9816\n",
      "\n",
      "Epoch 00013: val_loss did not improve from 0.12515\n",
      "Epoch 14/20\n",
      "1852/1852 [==============================] - 26s 14ms/step - loss: 0.0333 - accuracy: 0.9907 - val_loss: 0.1719 - val_accuracy: 0.9835\n",
      "\n",
      "Epoch 00014: val_loss did not improve from 0.12515\n",
      "Epoch 15/20\n",
      "1852/1852 [==============================] - 28s 15ms/step - loss: 0.0278 - accuracy: 0.9912 - val_loss: 0.1649 - val_accuracy: 0.9776\n",
      "\n",
      "Epoch 00015: val_loss did not improve from 0.12515\n",
      "Epoch 16/20\n",
      "1852/1852 [==============================] - 28s 15ms/step - loss: 0.0220 - accuracy: 0.9934 - val_loss: 0.1648 - val_accuracy: 0.9838\n",
      "\n",
      "Epoch 00016: val_loss did not improve from 0.12515\n",
      "Epoch 17/20\n",
      "1852/1852 [==============================] - 32s 17ms/step - loss: 0.0250 - accuracy: 0.9915 - val_loss: 0.1773 - val_accuracy: 0.9841\n",
      "\n",
      "Epoch 00017: val_loss did not improve from 0.12515\n",
      "Epoch 18/20\n",
      "1852/1852 [==============================] - 32s 17ms/step - loss: 0.0220 - accuracy: 0.9941 - val_loss: 0.1960 - val_accuracy: 0.9784\n",
      "\n",
      "Epoch 00018: val_loss did not improve from 0.12515\n",
      "Epoch 19/20\n",
      "1852/1852 [==============================] - 31s 17ms/step - loss: 0.0201 - accuracy: 0.9939 - val_loss: 0.1931 - val_accuracy: 0.9822\n",
      "\n",
      "Epoch 00019: val_loss did not improve from 0.12515\n",
      "Epoch 20/20\n",
      "1852/1852 [==============================] - 31s 17ms/step - loss: 0.0173 - accuracy: 0.9924 - val_loss: 0.1950 - val_accuracy: 0.9808\n",
      "\n",
      "Epoch 00020: val_loss did not improve from 0.12515\n"
     ]
    }
   ],
   "source": [
    "filename = 'test_single_LSTM_layer.h5'\n",
    "checkpoint = ModelCheckpoint(filename, monitor='val_loss', verbose=1, save_best_only=True, mode='min')\n",
    "#history = model.fit(x_train, y_train, epochs = 100, batch_size = 8, validation_split=0.2, verbose=1, callbacks=[checkpoint])\n",
    "history = model.fit(x_train, y_train, epochs = 20, batch_size = 8, validation_data= (x_val, y_val), verbose=1,callbacks=[checkpoint])"
   ]
  },
  {
   "cell_type": "code",
   "execution_count": 194,
   "id": "rising-atlanta",
   "metadata": {},
   "outputs": [
    {
     "name": "stdout",
     "output_type": "stream",
     "text": [
      "Model: \"sequential_8\"\n",
      "_________________________________________________________________\n",
      "Layer (type)                 Output Shape              Param #   \n",
      "=================================================================\n",
      "embedding_8 (Embedding)      (None, 26, 128)           448896    \n",
      "_________________________________________________________________\n",
      "bidirectional_12 (Bidirectio (None, 256)               263168    \n",
      "_________________________________________________________________\n",
      "dense_16 (Dense)             (None, 128)               32896     \n",
      "_________________________________________________________________\n",
      "dropout_9 (Dropout)          (None, 128)               0         \n",
      "_________________________________________________________________\n",
      "dense_17 (Dense)             (None, 96)                12384     \n",
      "_________________________________________________________________\n",
      "dropout_10 (Dropout)         (None, 96)                0         \n",
      "_________________________________________________________________\n",
      "dense_18 (Dense)             (None, 35)                3395      \n",
      "=================================================================\n",
      "Total params: 760,739\n",
      "Trainable params: 760,739\n",
      "Non-trainable params: 0\n",
      "_________________________________________________________________\n"
     ]
    }
   ],
   "source": [
    "model.summary()"
   ]
  },
  {
   "cell_type": "code",
   "execution_count": 195,
   "id": "vocational-constraint",
   "metadata": {},
   "outputs": [
    {
     "data": {
      "image/png": "[encoded data removed]",
      "text/plain": [
       "<Figure size 432x288 with 1 Axes>"
      ]
     },
     "metadata": {
      "needs_background": "light"
     },
     "output_type": "display_data"
    }
   ],
   "source": [
    "def plotloss(history):\n",
    "    plt.plot(history.history['val_accuracy'])\n",
    "    plt.plot(history.history['accuracy'])\n",
    "    plt.title('model accuracy')\n",
    "    plt.ylabel('accuracy')\n",
    "    plt.xlabel('epoch')\n",
    "    plt.legend(['val_accuracy', 'Train_accuracy'], loc = 'lower right')\n",
    "    plt.show()\n",
    "    \n",
    "plotloss(history)"
   ]
  },
  {
   "cell_type": "code",
   "execution_count": 196,
   "id": "rapid-diagnosis",
   "metadata": {},
   "outputs": [
    {
     "data": {
      "image/png": "[encoded data removed]",
      "text/plain": [
       "<Figure size 432x288 with 1 Axes>"
      ]
     },
     "metadata": {
      "needs_background": "light"
     },
     "output_type": "display_data"
    }
   ],
   "source": [
    "def plotloss1(history):\n",
    "    plt.plot(history.history['val_loss'])\n",
    "    plt.plot(history.history['loss'])\n",
    "    plt.title('model loss')\n",
    "    plt.ylabel('loss')\n",
    "    plt.xlabel('epoch')\n",
    "    plt.legend(['val_loss', 'train_loss'], loc = 'best')\n",
    "    plt.show()\n",
    "    \n",
    "plotloss1(history)"
   ]
  },
  {
   "cell_type": "code",
   "execution_count": 197,
   "id": "indian-script",
   "metadata": {},
   "outputs": [
    {
     "name": "stdout",
     "output_type": "stream",
     "text": [
      "116/116 [==============================] - 1s 6ms/step - loss: 0.1950 - accuracy: 0.9808\n",
      "98.08263778686523\n"
     ]
    }
   ],
   "source": [
    "_,acc=model.evaluate(x_val,y_val)\n",
    "print(acc*100)"
   ]
  },
  {
   "cell_type": "code",
   "execution_count": 76,
   "id": "adjusted-certificate",
   "metadata": {},
   "outputs": [],
   "source": [
    "model = load_model(\"test3.h5\")"
   ]
  },
  {
   "cell_type": "code",
   "execution_count": 134,
   "id": "floppy-muslim",
   "metadata": {},
   "outputs": [],
   "source": [
    "def predictions(text):\n",
    "    clean = re.sub(r'[^ a-z A-Z 0-9]',\" \", text)\n",
    "    test_word = word_tokenize(clean)\n",
    "    test_word = [w.lower() for w in test_word]\n",
    "    test_ls = word_tokenizer.texts_to_sequences(test_word)\n",
    "    #print(test_word)            ##\n",
    "    #Check for unknown words\n",
    "    if [] in test_ls:\n",
    "        test_ls = list(filter(None, test_ls))\n",
    "    \n",
    "    test_ls = np.array(test_ls).reshape(1, len(test_ls))\n",
    " \n",
    "    x = padding_doc(test_ls, max_length)\n",
    "  \n",
    "    pred = model.predict(x)\n",
    "  \n",
    "    return pred "
   ]
  },
  {
   "cell_type": "code",
   "execution_count": 140,
   "id": "complicated-breach",
   "metadata": {},
   "outputs": [],
   "source": [
    "def get_final_output(pred, classes):\n",
    "    predictions = pred[0]\n",
    " \n",
    "    classes = np.array(classes)\n",
    "    ids = np.argsort(-predictions)\n",
    "    classes = classes[ids]\n",
    "    predictions = -np.sort(-predictions)\n",
    "    pred_intent=classes[0]\n",
    " \n",
    "    #for i in range(pred.shape[1]):\n",
    "    #    print(\"%s has confidence = %s\" % (classes[i], (predictions[i])))\n",
    "    return pred_intent\n"
   ]
  },
  {
   "cell_type": "code",
   "execution_count": 79,
   "id": "noble-comfort",
   "metadata": {},
   "outputs": [],
   "source": [
    "#def user():\n",
    "#    text=input('Enter your query : ')\n",
    "#    pred = predictions(text)\n",
    "#    get_final_output(pred,unique_intent)"
   ]
  },
  {
   "cell_type": "code",
   "execution_count": null,
   "id": "prerequisite-hacker",
   "metadata": {},
   "outputs": [],
   "source": [
    "#user()"
   ]
  },
  {
   "cell_type": "code",
   "execution_count": 125,
   "id": "mathematical-forum",
   "metadata": {},
   "outputs": [],
   "source": [
    "df1=pd.read_csv(\"responses.csv\")"
   ]
  },
  {
   "cell_type": "code",
   "execution_count": 126,
   "id": "musical-brooklyn",
   "metadata": {},
   "outputs": [
    {
     "data": {
      "text/html": [
       "<div>\n",
       "<style scoped>\n",
       "    .dataframe tbody tr th:only-of-type {\n",
       "        vertical-align: middle;\n",
       "    }\n",
       "\n",
       "    .dataframe tbody tr th {\n",
       "        vertical-align: top;\n",
       "    }\n",
       "\n",
       "    .dataframe thead th {\n",
       "        text-align: right;\n",
       "    }\n",
       "</style>\n",
       "<table border=\"1\" class=\"dataframe\">\n",
       "  <thead>\n",
       "    <tr style=\"text-align: right;\">\n",
       "      <th></th>\n",
       "      <th>gen_hi</th>\n",
       "      <th>gen_how_you</th>\n",
       "      <th>gen_who_you</th>\n",
       "      <th>gen_name</th>\n",
       "      <th>gen_bot</th>\n",
       "      <th>gen_human</th>\n",
       "      <th>gen_who_made</th>\n",
       "      <th>gen_help</th>\n",
       "      <th>gen_query</th>\n",
       "      <th>gen_social_media</th>\n",
       "      <th>...</th>\n",
       "      <th>spe_proj_own</th>\n",
       "      <th>spe_proj_limit</th>\n",
       "      <th>spe_git_why</th>\n",
       "      <th>spe_credits_use_how</th>\n",
       "      <th>spe_credits_actual_resp</th>\n",
       "      <th>spe_alutoz_aft_credits</th>\n",
       "      <th>spe_why_alute</th>\n",
       "      <th>spe_alute_acc_free</th>\n",
       "      <th>spe_data_secure</th>\n",
       "      <th>spe_admin_purpose</th>\n",
       "    </tr>\n",
       "  </thead>\n",
       "  <tbody>\n",
       "    <tr>\n",
       "      <th>0</th>\n",
       "      <td>Hi!</td>\n",
       "      <td>I am good, thanks for asking!</td>\n",
       "      <td>I am a bot, here to help.</td>\n",
       "      <td>You are talking to Alute-bot</td>\n",
       "      <td>Indeed.</td>\n",
       "      <td>No I am not a human</td>\n",
       "      <td>I was build by the same people who built this ...</td>\n",
       "      <td>Sure, what do you want me to do?</td>\n",
       "      <td>Shoot away!</td>\n",
       "      <td>&lt;insta_handle&gt;</td>\n",
       "      <td>...</td>\n",
       "      <td>spe_proj_own</td>\n",
       "      <td>spe_proj_limit</td>\n",
       "      <td>spe_git_why</td>\n",
       "      <td>spe_credits_use_how</td>\n",
       "      <td>spe_credits_actual_resp</td>\n",
       "      <td>spe_alutoz_aft_credits</td>\n",
       "      <td>spe_why_alute</td>\n",
       "      <td>spe_alute_acc_free</td>\n",
       "      <td>spe_data_secure</td>\n",
       "      <td>spe_admin_purpose</td>\n",
       "    </tr>\n",
       "    <tr>\n",
       "      <th>1</th>\n",
       "      <td>Hello!</td>\n",
       "      <td>I am great, thanks!</td>\n",
       "      <td>I am a chatbot.</td>\n",
       "      <td>My name is Alute-bot</td>\n",
       "      <td>Yes, I am a bot</td>\n",
       "      <td>Certainly not</td>\n",
       "      <td>By an amazing team who made Alute</td>\n",
       "      <td>That's my job! What do you need help with</td>\n",
       "      <td>You can ask me anything</td>\n",
       "      <td>&lt;twitter_handle&gt;</td>\n",
       "      <td>...</td>\n",
       "      <td>spe_proj_own</td>\n",
       "      <td>spe_proj_limit</td>\n",
       "      <td>spe_git_why</td>\n",
       "      <td>spe_credits_use_how</td>\n",
       "      <td>spe_credits_actual_resp</td>\n",
       "      <td>spe_alutoz_aft_credits</td>\n",
       "      <td>spe_why_alute</td>\n",
       "      <td>spe_alute_acc_free</td>\n",
       "      <td>spe_data_secure</td>\n",
       "      <td>spe_admin_purpose</td>\n",
       "    </tr>\n",
       "    <tr>\n",
       "      <th>2</th>\n",
       "      <td>Hey!</td>\n",
       "      <td>Never better!</td>\n",
       "      <td>I am an AI powered bot.</td>\n",
       "      <td>Alute-bot is the name</td>\n",
       "      <td>Certainly not human</td>\n",
       "      <td>Nope, I am a bot</td>\n",
       "      <td>The Alute team created me</td>\n",
       "      <td>provide help is what I do</td>\n",
       "      <td>What's your question</td>\n",
       "      <td>Why, are you gonna stalk me?</td>\n",
       "      <td>...</td>\n",
       "      <td>spe_proj_own</td>\n",
       "      <td>spe_proj_limit</td>\n",
       "      <td>spe_git_why</td>\n",
       "      <td>spe_credits_use_how</td>\n",
       "      <td>spe_credits_actual_resp</td>\n",
       "      <td>spe_alutoz_aft_credits</td>\n",
       "      <td>spe_why_alute</td>\n",
       "      <td>spe_alute_acc_free</td>\n",
       "      <td>spe_data_secure</td>\n",
       "      <td>spe_admin_purpose</td>\n",
       "    </tr>\n",
       "    <tr>\n",
       "      <th>3</th>\n",
       "      <td>Hola!</td>\n",
       "      <td>Perfectly fine, thanks!</td>\n",
       "      <td>Chatbot. That's what I am.</td>\n",
       "      <td>name? It's Alute-bot</td>\n",
       "      <td>You guessed it right</td>\n",
       "      <td>Human? Meh.</td>\n",
       "      <td>I am brought to you by the makers of Alute</td>\n",
       "      <td>Definitely, by any means possible</td>\n",
       "      <td>Ask me anything!</td>\n",
       "      <td>Why, are you gonna stalk me?</td>\n",
       "      <td>...</td>\n",
       "      <td>spe_proj_own</td>\n",
       "      <td>spe_proj_limit</td>\n",
       "      <td>spe_git_why</td>\n",
       "      <td>spe_credits_use_how</td>\n",
       "      <td>spe_credits_actual_resp</td>\n",
       "      <td>spe_alutoz_aft_credits</td>\n",
       "      <td>spe_why_alute</td>\n",
       "      <td>spe_alute_acc_free</td>\n",
       "      <td>spe_data_secure</td>\n",
       "      <td>spe_admin_purpose</td>\n",
       "    </tr>\n",
       "  </tbody>\n",
       "</table>\n",
       "<p>4 rows × 35 columns</p>\n",
       "</div>"
      ],
      "text/plain": [
       "   gen_hi                    gen_how_you                 gen_who_you  \\\n",
       "0     Hi!  I am good, thanks for asking!   I am a bot, here to help.   \n",
       "1  Hello!            I am great, thanks!             I am a chatbot.   \n",
       "2    Hey!                  Never better!     I am an AI powered bot.   \n",
       "3   Hola!        Perfectly fine, thanks!  Chatbot. That's what I am.   \n",
       "\n",
       "                       gen_name               gen_bot            gen_human  \\\n",
       "0  You are talking to Alute-bot               Indeed.  No I am not a human   \n",
       "1          My name is Alute-bot       Yes, I am a bot        Certainly not   \n",
       "2         Alute-bot is the name   Certainly not human     Nope, I am a bot   \n",
       "3          name? It's Alute-bot  You guessed it right          Human? Meh.   \n",
       "\n",
       "                                        gen_who_made  \\\n",
       "0  I was build by the same people who built this ...   \n",
       "1                  By an amazing team who made Alute   \n",
       "2                          The Alute team created me   \n",
       "3         I am brought to you by the makers of Alute   \n",
       "\n",
       "                                    gen_help                gen_query  \\\n",
       "0           Sure, what do you want me to do?              Shoot away!   \n",
       "1  That's my job! What do you need help with  You can ask me anything   \n",
       "2                  provide help is what I do     What's your question   \n",
       "3          Definitely, by any means possible         Ask me anything!   \n",
       "\n",
       "               gen_social_media  ...  spe_proj_own  spe_proj_limit  \\\n",
       "0                <insta_handle>  ...  spe_proj_own  spe_proj_limit   \n",
       "1              <twitter_handle>  ...  spe_proj_own  spe_proj_limit   \n",
       "2  Why, are you gonna stalk me?  ...  spe_proj_own  spe_proj_limit   \n",
       "3  Why, are you gonna stalk me?  ...  spe_proj_own  spe_proj_limit   \n",
       "\n",
       "   spe_git_why  spe_credits_use_how  spe_credits_actual_resp  \\\n",
       "0  spe_git_why  spe_credits_use_how  spe_credits_actual_resp   \n",
       "1  spe_git_why  spe_credits_use_how  spe_credits_actual_resp   \n",
       "2  spe_git_why  spe_credits_use_how  spe_credits_actual_resp   \n",
       "3  spe_git_why  spe_credits_use_how  spe_credits_actual_resp   \n",
       "\n",
       "   spe_alutoz_aft_credits  spe_why_alute  spe_alute_acc_free  spe_data_secure  \\\n",
       "0  spe_alutoz_aft_credits  spe_why_alute  spe_alute_acc_free  spe_data_secure   \n",
       "1  spe_alutoz_aft_credits  spe_why_alute  spe_alute_acc_free  spe_data_secure   \n",
       "2  spe_alutoz_aft_credits  spe_why_alute  spe_alute_acc_free  spe_data_secure   \n",
       "3  spe_alutoz_aft_credits  spe_why_alute  spe_alute_acc_free  spe_data_secure   \n",
       "\n",
       "   spe_admin_purpose  \n",
       "0  spe_admin_purpose  \n",
       "1  spe_admin_purpose  \n",
       "2  spe_admin_purpose  \n",
       "3  spe_admin_purpose  \n",
       "\n",
       "[4 rows x 35 columns]"
      ]
     },
     "execution_count": 126,
     "metadata": {},
     "output_type": "execute_result"
    }
   ],
   "source": [
    "df1.head()"
   ]
  },
  {
   "cell_type": "code",
   "execution_count": 89,
   "id": "reflected-ready",
   "metadata": {},
   "outputs": [],
   "source": [
    "import random"
   ]
  },
  {
   "cell_type": "code",
   "execution_count": 127,
   "id": "internal-demand",
   "metadata": {},
   "outputs": [],
   "source": [
    "df1=pd.DataFrame(df1)\n"
   ]
  },
  {
   "cell_type": "code",
   "execution_count": 131,
   "id": "stuck-surprise",
   "metadata": {},
   "outputs": [
    {
     "name": "stdout",
     "output_type": "stream",
     "text": [
      "I am good, thanks for asking!\n"
     ]
    }
   ],
   "source": [
    "print(random.choice(df1.iloc[:,1]))"
   ]
  },
  {
   "cell_type": "code",
   "execution_count": 132,
   "id": "frozen-document",
   "metadata": {},
   "outputs": [],
   "source": [
    "A=list(df1.columns)"
   ]
  },
  {
   "cell_type": "code",
   "execution_count": null,
   "id": "delayed-model",
   "metadata": {},
   "outputs": [],
   "source": []
  },
  {
   "cell_type": "code",
   "execution_count": 136,
   "id": "selected-globe",
   "metadata": {},
   "outputs": [],
   "source": [
    "def F1():\n",
    "    print('bot: ',random.choice(df1.iloc[:,0]))\n",
    "def F2():\n",
    "    print('bot: ',random.choice(df1.iloc[:,1]))\n",
    "def F3():\n",
    "    print('bot: ',random.choice(df1.iloc[:,2]))\n",
    "def F4():\n",
    "    print('bot: ',random.choice(df1.iloc[:,3]))\n",
    "def F5():\n",
    "    print('bot: ',random.choice(df1.iloc[:,4]))\n",
    "def F6():\n",
    "    print('bot: ',random.choice(df1.iloc[:,5]))\n",
    "def F7():\n",
    "    print('bot: ',random.choice(df1.iloc[:,6]))\n",
    "def F8():\n",
    "    print('bot: ',random.choice(df1.iloc[:,7]))\n",
    "def F9():\n",
    "    print('bot: ',random.choice(df1.iloc[:,8]))\n",
    "def F10():\n",
    "    print('bot: ',random.choice(df1.iloc[:,9]))\n",
    "def F11():\n",
    "    print('bot: ',random.choice(df1.iloc[:,10]))\n",
    "def F12():\n",
    "    print('bot: ',random.choice(df1.iloc[:,11]))\n",
    "def F13():\n",
    "    print('bot: ',random.choice(df1.iloc[:,12]))\n",
    "def F14():\n",
    "    print('bot: ',random.choice(df1.iloc[:,13]))\n",
    "def F15():\n",
    "    print('bot: ',random.choice(df1.iloc[:,14]))\n",
    "def F16():\n",
    "    print('bot: ',random.choice(df1.iloc[:,15]))\n",
    "def F17():\n",
    "    print('bot: ',random.choice(df1.iloc[:,16]))\n",
    "def F18():\n",
    "    print('bot: ',random.choice(df1.iloc[:,17]))\n",
    "def F19():\n",
    "    print('bot: ',random.choice(df1.iloc[:,18]))\n",
    "def F20():\n",
    "    print('bot: ',random.choice(df1.iloc[:,19]))\n",
    "def F21():\n",
    "    print('bot: ',random.choice(df1.iloc[:,20]))\n",
    "def F22():\n",
    "    print('bot: ',random.choice(df1.iloc[:,21]))\n",
    "def F23():\n",
    "    print('bot: ',random.choice(df1.iloc[:,22]))\n",
    "def F24():\n",
    "    print('bot: ',random.choice(df1.iloc[:,23]))\n",
    "def F25():\n",
    "    print('bot: ',random.choice(df1.iloc[:,24]))\n",
    "def F26():\n",
    "    print('bot: ',random.choice(df1.iloc[:,25]))\n",
    "def F27():\n",
    "    print('bot: ',random.choice(df1.iloc[:,26]))\n",
    "def F28():\n",
    "    print('bot: ',random.choice(df1.iloc[:,27]))\n",
    "def F29():\n",
    "    print('bot: ',random.choice(df1.iloc[:,28]))\n",
    "def F30():\n",
    "    print('bot: ',random.choice(df1.iloc[:,29]))\n",
    "def F31():\n",
    "    print('bot: ',random.choice(df1.iloc[:,30]))\n",
    "def F32():\n",
    "    print('bot: ',random.choice(df1.iloc[:,31]))\n",
    "def F33():\n",
    "    print('bot: ',random.choice(df1.iloc[:,32]))\n",
    "def F34():\n",
    "    print('bot: ',random.choice(df1.iloc[:,33]))\n",
    "def F35():\n",
    "    print('bot: ',random.choice(df1.iloc[:,34]))\n"
   ]
  },
  {
   "cell_type": "code",
   "execution_count": 153,
   "id": "according-environment",
   "metadata": {},
   "outputs": [],
   "source": [
    "def user_output():\n",
    "    for i in range(5):\n",
    "        text=input('\\nYou: ')\n",
    "        if text == 'quit':\n",
    "            print('bye')\n",
    "            break\n",
    "        elif text == '':\n",
    "            print(\"Please enter a valid response\")\n",
    "        else : \n",
    "            pred = predictions(text)\n",
    "            if get_final_output(pred, unique_intent) == A[0]:\n",
    "                F1()\n",
    "            elif get_final_output(pred, unique_intent) == A[1]:\n",
    "                F2()\n",
    "            elif get_final_output(pred, unique_intent) == A[2]:\n",
    "                F3()\n",
    "            elif get_final_output(pred, unique_intent) == A[3]:\n",
    "                F4()\n",
    "            elif get_final_output(pred, unique_intent) == A[4]:\n",
    "                F5()\n",
    "            elif get_final_output(pred, unique_intent) == A[5]:\n",
    "                F6()\n",
    "            elif get_final_output(pred, unique_intent) == A[6]:\n",
    "                F7()\n",
    "            elif get_final_output(pred, unique_intent) == A[7]:\n",
    "                F8()\n",
    "            elif get_final_output(pred, unique_intent) == A[8]:\n",
    "                F9()\n",
    "            elif get_final_output(pred, unique_intent) == A[9]:\n",
    "                F10()\n",
    "            elif get_final_output(pred, unique_intent) == A[10]:\n",
    "                F11()\n",
    "            elif get_final_output(pred, unique_intent) == A[11]:\n",
    "                F12()\n",
    "            elif get_final_output(pred, unique_intent) == A[12]:\n",
    "                F13()\n",
    "            elif get_final_output(pred, unique_intent) == A[13]:\n",
    "                F14()\n",
    "            elif get_final_output(pred, unique_intent) == A[14]:\n",
    "                F15()\n",
    "            elif get_final_output(pred, unique_intent) == A[15]:\n",
    "                F16()\n",
    "            elif get_final_output(pred, unique_intent) == A[16]:\n",
    "                F17()\n",
    "            elif get_final_output(pred, unique_intent) == A[17]:\n",
    "                F18()\n",
    "            elif get_final_output(pred, unique_intent) == A[18]:\n",
    "                F19()\n",
    "            elif get_final_output(pred, unique_intent) == A[19]:\n",
    "                F20()\n",
    "            elif get_final_output(pred, unique_intent) == A[20]:\n",
    "                F21()\n",
    "            elif get_final_output(pred, unique_intent) == A[21]:\n",
    "                F22()\n",
    "            elif get_final_output(pred, unique_intent) == A[22]:\n",
    "                F23()\n",
    "            elif get_final_output(pred, unique_intent) == A[23]:\n",
    "                F24()\n",
    "            elif get_final_output(pred, unique_intent) == A[24]:\n",
    "                F25()\n",
    "            elif get_final_output(pred, unique_intent) == A[25]:\n",
    "                F26()\n",
    "            elif get_final_output(pred, unique_intent) == A[26]:\n",
    "                F27()\n",
    "            elif get_final_output(pred, unique_intent) == A[27]:\n",
    "                F28()\n",
    "            elif get_final_output(pred, unique_intent) == A[28]:\n",
    "                F29()\n",
    "            elif get_final_output(pred, unique_intent) == A[29]:\n",
    "                F30()\n",
    "            elif get_final_output(pred, unique_intent) == A[30]:\n",
    "                F31()\n",
    "            elif get_final_output(pred, unique_intent) == A[31]:\n",
    "                F32()\n",
    "            elif get_final_output(pred, unique_intent) == A[32]:\n",
    "                F33()\n",
    "            elif get_final_output(pred, unique_intent) == A[33]:\n",
    "                F34()\n",
    "            elif get_final_output(pred, unique_intent) == A[34]:\n",
    "                F35()\n",
    "            else:\n",
    "                print(\"Please enter a valid response\")\n",
    "\n"
   ]
  },
  {
   "cell_type": "code",
   "execution_count": 155,
   "id": "dietary-driving",
   "metadata": {
    "scrolled": true
   },
   "outputs": [
    {
     "name": "stdout",
     "output_type": "stream",
     "text": [
      "\n",
      "You: hello\n",
      "bot:  Hello!\n",
      "\n",
      "You: what is your name?\n",
      "bot:  name? It's Alute-bot\n",
      "\n",
      "You: what are alutoze?\n",
      "bot:  spe_alutoze_what\n",
      "\n",
      "You: how can I use my credits?\n",
      "bot:  spe_credits_use_how\n",
      "\n",
      "You: how can I contact you?\n",
      "bot:  You can contact us via <mail_id>\n"
     ]
    }
   ],
   "source": [
    "user_output()"
   ]
  },
  {
   "cell_type": "code",
   "execution_count": null,
   "id": "configured-croatia",
   "metadata": {},
   "outputs": [],
   "source": []
  },
  {
   "cell_type": "code",
   "execution_count": null,
   "id": "successful-boost",
   "metadata": {},
   "outputs": [],
   "source": []
  },
  {
   "cell_type": "code",
   "execution_count": null,
   "id": "reflected-maldives",
   "metadata": {},
   "outputs": [],
   "source": []
  }
 ],
 "metadata": {
  "kernelspec": {
   "display_name": "Python [conda env:tf-gpu] *",
   "language": "python",
   "name": "conda-env-tf-gpu-py"
  },
  "language_info": {
   "codemirror_mode": {
    "name": "ipython",
    "version": 3
   },
   "file_extension": ".py",
   "mimetype": "text/x-python",
   "name": "python",
   "nbconvert_exporter": "python",
   "pygments_lexer": "ipython3",
   "version": "3.8.8"
  }
 },
 "nbformat": 4,
 "nbformat_minor": 5
}
